{
 "cells": [
  {
   "cell_type": "code",
   "execution_count": 1,
   "id": "ac00beb1-c6d9-4e8d-957a-e1351baecaa4",
   "metadata": {},
   "outputs": [],
   "source": [
    "# Group B Assignment 3 \n",
    "# Locate dataset (e.g., sample_weather.txt) for working on weather data which reads the text input files and finds average for temperature, dew point and wind speed."
   ]
  },
  {
   "cell_type": "code",
   "execution_count": 2,
   "id": "065c49ec-e4b2-49d8-a034-7781ed60d3a7",
   "metadata": {},
   "outputs": [
    {
     "name": "stderr",
     "output_type": "stream",
     "text": [
      "\n",
      "[notice] A new release of pip is available: 24.3.1 -> 25.0.1\n",
      "[notice] To update, run: python.exe -m pip install --upgrade pip\n"
     ]
    },
    {
     "name": "stdout",
     "output_type": "stream",
     "text": [
      "Requirement already satisfied: pandas in d:\\study material\\dsbd\\venv\\lib\\site-packages (2.2.3)\n",
      "Requirement already satisfied: numpy>=1.26.0 in d:\\study material\\dsbd\\venv\\lib\\site-packages (from pandas) (2.2.2)\n",
      "Requirement already satisfied: python-dateutil>=2.8.2 in d:\\study material\\dsbd\\venv\\lib\\site-packages (from pandas) (2.9.0.post0)\n",
      "Requirement already satisfied: pytz>=2020.1 in d:\\study material\\dsbd\\venv\\lib\\site-packages (from pandas) (2025.1)\n",
      "Requirement already satisfied: tzdata>=2022.7 in d:\\study material\\dsbd\\venv\\lib\\site-packages (from pandas) (2025.1)\n",
      "Requirement already satisfied: six>=1.5 in d:\\study material\\dsbd\\venv\\lib\\site-packages (from python-dateutil>=2.8.2->pandas) (1.17.0)\n"
     ]
    }
   ],
   "source": [
    " # Command to install pandas \n",
    "!pip install pandas"
   ]
  },
  {
   "cell_type": "code",
   "execution_count": 4,
   "id": "ddcbf007-d5c8-4357-91e8-3f6f9da04e26",
   "metadata": {},
   "outputs": [],
   "source": [
    "# Loaded the library\n",
    "import pandas as pd"
   ]
  },
  {
   "cell_type": "code",
   "execution_count": 5,
   "id": "82a5ed9a-c2da-4460-b06e-cc0c2a64d12b",
   "metadata": {},
   "outputs": [],
   "source": [
    "# Load the dataset into a DataFrame\n",
    "# read_csv is used to read the data form csv files\n",
    "df = pd.read_csv(\"weatherhistory.csv\") "
   ]
  },
  {
   "cell_type": "code",
   "execution_count": 7,
   "id": "715df5fe-e52d-4b8c-9026-52e08c9277cf",
   "metadata": {},
   "outputs": [
    {
     "name": "stdout",
     "output_type": "stream",
     "text": [
      "                  Formatted Date        Summary Precip Type  Temperature (C)  \\\n",
      "0  2006-04-01 00:00:00.000 +0200  Partly Cloudy        rain         9.472222   \n",
      "1  2006-04-01 01:00:00.000 +0200  Partly Cloudy        rain         9.355556   \n",
      "2  2006-04-01 02:00:00.000 +0200  Mostly Cloudy        rain         9.377778   \n",
      "3  2006-04-01 03:00:00.000 +0200  Partly Cloudy        rain         8.288889   \n",
      "4  2006-04-01 04:00:00.000 +0200  Mostly Cloudy        rain         8.755556   \n",
      "\n",
      "   Apparent Temperature (C)  Humidity  Wind Speed (km/h)  \\\n",
      "0                  7.388889      0.89            14.1197   \n",
      "1                  7.227778      0.86            14.2646   \n",
      "2                  9.377778      0.89             3.9284   \n",
      "3                  5.944444      0.83            14.1036   \n",
      "4                  6.977778      0.83            11.0446   \n",
      "\n",
      "   Wind Bearing (degrees)  Visibility (km)  Loud Cover  Pressure (millibars)  \\\n",
      "0                   251.0          15.8263         0.0               1015.13   \n",
      "1                   259.0          15.8263         0.0               1015.63   \n",
      "2                   204.0          14.9569         0.0               1015.94   \n",
      "3                   269.0          15.8263         0.0               1016.41   \n",
      "4                   259.0          15.8263         0.0               1016.51   \n",
      "\n",
      "                       Daily Summary  \n",
      "0  Partly cloudy throughout the day.  \n",
      "1  Partly cloudy throughout the day.  \n",
      "2  Partly cloudy throughout the day.  \n",
      "3  Partly cloudy throughout the day.  \n",
      "4  Partly cloudy throughout the day.  \n"
     ]
    }
   ],
   "source": [
    "# Display the first few rows to understand the structure of the data\n",
    "# head(n) function is used to view the rows of a dataframe\n",
    "# n is optional \n",
    "# default value of n is 5\n",
    "print(df.head())"
   ]
  },
  {
   "cell_type": "code",
   "execution_count": 8,
   "id": "704e2b5a-361b-4bd5-b42d-0571bf2b99d4",
   "metadata": {},
   "outputs": [
    {
     "name": "stdout",
     "output_type": "stream",
     "text": [
      "Index(['Formatted Date', 'Summary', 'Precip Type', 'Temperature (C)',\n",
      "       'Apparent Temperature (C)', 'Humidity', 'Wind Speed (km/h)',\n",
      "       'Wind Bearing (degrees)', 'Visibility (km)', 'Loud Cover',\n",
      "       'Pressure (millibars)', 'Daily Summary'],\n",
      "      dtype='object')\n"
     ]
    }
   ],
   "source": [
    "# Display column names to verify correct labels \n",
    "print(df.columns)"
   ]
  },
  {
   "cell_type": "code",
   "execution_count": 10,
   "id": "8b8210a1-d792-4bc1-be91-9d77aa5b307c",
   "metadata": {},
   "outputs": [],
   "source": [
    "# Rename columns as per the requirements \n",
    "# rename() function is used to rename the function\n",
    "# inplace=True is used to return a modified copy of dataframe\n",
    "df.rename(columns={\n",
    "    \"Temperature (C)\": \"Temperature\",\n",
    "    \"Apparent Temperature (C)\": \"DewPoint\",  # Using Apparent Temperature as Dew Point alternative\n",
    "    \"Wind Speed (km/h)\": \"WindSpeed\"}, inplace=True)"
   ]
  },
  {
   "cell_type": "code",
   "execution_count": 12,
   "id": "cdd04331-7cf9-4065-ae1a-5aac1bed8ab0",
   "metadata": {},
   "outputs": [
    {
     "name": "stdout",
     "output_type": "stream",
     "text": [
      "Index(['Formatted Date', 'Summary', 'Precip Type', 'Temperature', 'DewPoint',\n",
      "       'Humidity', 'WindSpeed', 'Wind Bearing (degrees)', 'Visibility (km)',\n",
      "       'Loud Cover', 'Pressure (millibars)', 'Daily Summary'],\n",
      "      dtype='object')\n"
     ]
    }
   ],
   "source": [
    "# Check if renaming was successful\n",
    "print(df.columns)"
   ]
  },
  {
   "cell_type": "code",
   "execution_count": 13,
   "id": "a03e6c49-3bf7-40b7-a099-628cab7384c7",
   "metadata": {},
   "outputs": [],
   "source": [
    "# Compute averages of temperature , dew point and wind speed \n",
    "avg_temp = df[\"Temperature\"].mean()\n",
    "avg_dew_point = df[\"DewPoint\"].mean()\n",
    "avg_wind_speed = df[\"WindSpeed\"].mean()"
   ]
  },
  {
   "cell_type": "code",
   "execution_count": 14,
   "id": "6f2f5db3-c683-4448-af61-8ba453351e6c",
   "metadata": {},
   "outputs": [
    {
     "name": "stdout",
     "output_type": "stream",
     "text": [
      "Average Temperature: 11.93°C\n",
      "Average Dew Point: 10.86°C\n",
      "Average Wind Speed: 10.81 km/h\n"
     ]
    }
   ],
   "source": [
    "# Print results\n",
    "print(f\"Average Temperature: {avg_temp:.2f}°C\")\n",
    "print(f\"Average Dew Point: {avg_dew_point:.2f}°C\") \n",
    "print(f\"Average Wind Speed: {avg_wind_speed:.2f} km/h\")"
   ]
  },
  {
   "cell_type": "code",
   "execution_count": 15,
   "id": "f85b5a56-84a4-419a-9551-ac0640185e9e",
   "metadata": {},
   "outputs": [],
   "source": [
    "# Save the cleaned data to a new CSV file\n",
    "df.to_csv(\"processed_weatherhistory.csv\", index=False)"
   ]
  }
 ],
 "metadata": {
  "kernelspec": {
   "display_name": "Python (venv)",
   "language": "python",
   "name": "venv"
  },
  "language_info": {
   "codemirror_mode": {
    "name": "ipython",
    "version": 3
   },
   "file_extension": ".py",
   "mimetype": "text/x-python",
   "name": "python",
   "nbconvert_exporter": "python",
   "pygments_lexer": "ipython3",
   "version": "3.13.1"
  }
 },
 "nbformat": 4,
 "nbformat_minor": 5
}
