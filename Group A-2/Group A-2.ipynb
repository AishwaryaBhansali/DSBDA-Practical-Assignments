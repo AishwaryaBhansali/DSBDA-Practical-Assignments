{
 "cells": [
  {
   "cell_type": "code",
   "execution_count": 1,
   "id": "d48828f5-2cbd-44eb-adb4-bc623f8d8296",
   "metadata": {},
   "outputs": [],
   "source": [
    "# Data Wrangling II \n",
    "# Create an “Academic performance” dataset of students and perform the following operations using \n",
    "# Python. \n",
    " \n",
    "# 1. Scan all variables for missing values and inconsistencies. If there are missing values and/or \n",
    "# inconsistencies, use any of the suitable techniques to deal with them.   \n",
    "# 2. Scan all numeric variables for outliers. If there are outliers, use any of the suitable \n",
    "# techniques to deal with them.  \n",
    "# 3. Apply data transformations on at least one of the variables. The purpose of this \n",
    "# transformation should be one of the following reasons: to change the scale for better \n",
    "# understanding of the variable, to convert a non-linear relation into a linear one, or to \n",
    "# decrease the skewness and convert the distribution into a normal distribution.  \n",
    " \n",
    "# Reason and document your approach properly. "
   ]
  },
  {
   "cell_type": "code",
   "execution_count": 2,
   "id": "ac1df63c-5a6f-4a9c-9205-acec01a344c2",
   "metadata": {},
   "outputs": [
    {
     "name": "stdout",
     "output_type": "stream",
     "text": [
      "Requirement already satisfied: pandas in d:\\study material\\dsbd\\venv\\lib\\site-packages (2.2.3)\n",
      "Requirement already satisfied: numpy in d:\\study material\\dsbd\\venv\\lib\\site-packages (2.2.2)\n",
      "Requirement already satisfied: matplotlib in d:\\study material\\dsbd\\venv\\lib\\site-packages (3.10.0)\n",
      "Requirement already satisfied: seaborn in d:\\study material\\dsbd\\venv\\lib\\site-packages (0.13.2)\n",
      "Requirement already satisfied: python-dateutil>=2.8.2 in d:\\study material\\dsbd\\venv\\lib\\site-packages (from pandas) (2.9.0.post0)\n",
      "Requirement already satisfied: pytz>=2020.1 in d:\\study material\\dsbd\\venv\\lib\\site-packages (from pandas) (2025.1)\n",
      "Requirement already satisfied: tzdata>=2022.7 in d:\\study material\\dsbd\\venv\\lib\\site-packages (from pandas) (2025.1)\n",
      "Requirement already satisfied: contourpy>=1.0.1 in d:\\study material\\dsbd\\venv\\lib\\site-packages (from matplotlib) (1.3.1)\n",
      "Requirement already satisfied: cycler>=0.10 in d:\\study material\\dsbd\\venv\\lib\\site-packages (from matplotlib) (0.12.1)\n",
      "Requirement already satisfied: fonttools>=4.22.0 in d:\\study material\\dsbd\\venv\\lib\\site-packages (from matplotlib) (4.56.0)\n",
      "Requirement already satisfied: kiwisolver>=1.3.1 in d:\\study material\\dsbd\\venv\\lib\\site-packages (from matplotlib) (1.4.8)\n",
      "Requirement already satisfied: packaging>=20.0 in d:\\study material\\dsbd\\venv\\lib\\site-packages (from matplotlib) (24.2)\n",
      "Requirement already satisfied: pillow>=8 in d:\\study material\\dsbd\\venv\\lib\\site-packages (from matplotlib) (11.1.0)\n",
      "Requirement already satisfied: pyparsing>=2.3.1 in d:\\study material\\dsbd\\venv\\lib\\site-packages (from matplotlib) (3.2.1)\n",
      "Requirement already satisfied: six>=1.5 in d:\\study material\\dsbd\\venv\\lib\\site-packages (from python-dateutil>=2.8.2->pandas) (1.17.0)\n"
     ]
    },
    {
     "name": "stderr",
     "output_type": "stream",
     "text": [
      "\n",
      "[notice] A new release of pip is available: 24.3.1 -> 25.0.1\n",
      "[notice] To update, run: python.exe -m pip install --upgrade pip\n"
     ]
    }
   ],
   "source": [
    "!pip install pandas numpy matplotlib seaborn"
   ]
  },
  {
   "cell_type": "code",
   "execution_count": 3,
   "id": "b055dd73-6361-4838-b4df-656272b16cd9",
   "metadata": {},
   "outputs": [],
   "source": [
    " # Importing libraries\n",
    " import pandas as pd\n",
    " import numpy as np\n",
    " import matplotlib.pyplot as plt\n",
    " import seaborn as sns"
   ]
  },
  {
   "cell_type": "code",
   "execution_count": 1,
   "id": "cfcb5ef8-c6d9-4cae-9189-fc52ba69a05b",
   "metadata": {},
   "outputs": [],
   "source": [
    "def DetectOutlier(df,var):\n",
    " # IQR method is used to deal with outliers\n",
    "  Q1 = df[var].quantile(0.25)\n",
    "  Q3 = df[var].quantile(0.75)\n",
    "  IQR = Q3 - Q1\n",
    "  high, low = Q3+1.5*IQR, Q1-1.5*IQR\n",
    "  print(\"Highest allowed in variable:\", var, high)\n",
    "  print(\"lowest allowed in variable:\", var, low)\n",
    "  count = df[(df[var] > high) | (df[var] < low)][var].count()\n",
    "  print('Total outliers in:',var,':',count)\n",
    " # new dataframe is created which contains outliers\n",
    "  df1 = df[((df[var] < low) | (df[var] > high))] #these are outliers\n",
    "  print('Outliers : \\n', len(df1))\n",
    "  print(df1.T)\n",
    "  df = df[((df[var] >= low) & (df[var] <= high))] #now filter out data which is not outlier\n",
    "  return(df)"
   ]
  },
  {
   "cell_type": "code",
   "execution_count": 4,
   "id": "ec2e3670-6e76-47d6-aeec-467417c3e66f",
   "metadata": {},
   "outputs": [],
   "source": [
    "# Reading dataset\n",
    "df = pd.read_csv('academic.csv')"
   ]
  },
  {
   "cell_type": "code",
   "execution_count": 5,
   "id": "0a80752b-d669-4828-b481-4bdfe48f90e9",
   "metadata": {},
   "outputs": [
    {
     "name": "stdout",
     "output_type": "stream",
     "text": [
      "Information of Dataset:\n",
      " <bound method DataFrame.info of     gender NationalITy PlaceofBirth       StageID GradeID SectionID  \\\n",
      "0        M          KW       KuwaIT    lowerlevel    G-04         A   \n",
      "1        M          KW       KuwaIT    lowerlevel    G-04         A   \n",
      "2        M          KW       KuwaIT    lowerlevel    G-04         A   \n",
      "3        M          KW       KuwaIT    lowerlevel    G-04         A   \n",
      "4        M          KW       KuwaIT    lowerlevel    G-04         A   \n",
      "..     ...         ...          ...           ...     ...       ...   \n",
      "475      F      Jordan       Jordan  MiddleSchool    G-08         A   \n",
      "476      F      Jordan       Jordan  MiddleSchool    G-08         A   \n",
      "477      F      Jordan       Jordan  MiddleSchool    G-08         A   \n",
      "478      F      Jordan       Jordan  MiddleSchool    G-08         A   \n",
      "479      F      Jordan       Jordan  MiddleSchool    G-08         A   \n",
      "\n",
      "         Topic Semester Relation  raisedhands  VisITedResources  \\\n",
      "0           IT        F   Father         15.0                16   \n",
      "1           IT        F   Father          NaN                20   \n",
      "2           IT        F   Father         10.0                 7   \n",
      "3           IT        F   Father         30.0                25   \n",
      "4           IT        F   Father          0.0                50   \n",
      "..         ...      ...      ...          ...               ...   \n",
      "475  Chemistry        S   Father          5.0                 4   \n",
      "476    Geology        F   Father         50.0                77   \n",
      "477    Geology        S   Father         55.0                74   \n",
      "478    History        F   Father         30.0                17   \n",
      "479    History        S   Father         35.0                14   \n",
      "\n",
      "     AnnouncementsView  Discussion ParentAnsweringSurvey  \\\n",
      "0                    2          20                   Yes   \n",
      "1                    3          25                   Yes   \n",
      "2                    0          30                    No   \n",
      "3                    5          35                    No   \n",
      "4                   12          50                    No   \n",
      "..                 ...         ...                   ...   \n",
      "475                  5           8                    No   \n",
      "476                 14          28                    No   \n",
      "477                 25          29                    No   \n",
      "478                 14          57                    No   \n",
      "479                 23          62                    No   \n",
      "\n",
      "    ParentschoolSatisfaction StudentAbsenceDays Class  \n",
      "0                       Good            Under-7     M  \n",
      "1                       Good            Under-7     M  \n",
      "2                        Bad            Above-7     L  \n",
      "3                        Bad            Above-7     L  \n",
      "4                        Bad            Above-7     M  \n",
      "..                       ...                ...   ...  \n",
      "475                      Bad            Above-7     L  \n",
      "476                      Bad            Under-7     M  \n",
      "477                      Bad            Under-7     M  \n",
      "478                      Bad            Above-7     L  \n",
      "479                      Bad            Above-7     L  \n",
      "\n",
      "[480 rows x 17 columns]>\n"
     ]
    }
   ],
   "source": [
    "# Display basic information\n",
    "print('Information of Dataset:\\n', df.info)"
   ]
  },
  {
   "cell_type": "code",
   "execution_count": 7,
   "id": "ad316506-6b6a-42a9-93ae-4cc3b202a3b6",
   "metadata": {},
   "outputs": [
    {
     "name": "stdout",
     "output_type": "stream",
     "text": [
      "Shape of Dataset (row x column):  (480, 17)\n"
     ]
    }
   ],
   "source": [
    "print('Shape of Dataset (row x column): ', df.shape)"
   ]
  },
  {
   "cell_type": "code",
   "execution_count": 8,
   "id": "22202f0d-f7ad-428a-b524-c9cf3c823a2e",
   "metadata": {},
   "outputs": [
    {
     "name": "stdout",
     "output_type": "stream",
     "text": [
      "Columns Name:  Index(['gender', 'NationalITy', 'PlaceofBirth', 'StageID', 'GradeID',\n",
      "       'SectionID', 'Topic', 'Semester', 'Relation', 'raisedhands',\n",
      "       'VisITedResources', 'AnnouncementsView', 'Discussion',\n",
      "       'ParentAnsweringSurvey', 'ParentschoolSatisfaction',\n",
      "       'StudentAbsenceDays', 'Class'],\n",
      "      dtype='object')\n"
     ]
    }
   ],
   "source": [
    "print('Columns Name: ', df.columns)"
   ]
  },
  {
   "cell_type": "code",
   "execution_count": 9,
   "id": "5c813ae0-a5c2-4811-8007-647d59d85177",
   "metadata": {},
   "outputs": [
    {
     "name": "stdout",
     "output_type": "stream",
     "text": [
      "Total elements in dataset: 8160\n"
     ]
    }
   ],
   "source": [
    "print('Total elements in dataset:', df.size)"
   ]
  },
  {
   "cell_type": "code",
   "execution_count": 10,
   "id": "81bd90bc-8f19-4301-931c-493ea6b46f25",
   "metadata": {},
   "outputs": [
    {
     "name": "stdout",
     "output_type": "stream",
     "text": [
      "Datatype of attributes (columns): gender                       object\n",
      "NationalITy                  object\n",
      "PlaceofBirth                 object\n",
      "StageID                      object\n",
      "GradeID                      object\n",
      "SectionID                    object\n",
      "Topic                        object\n",
      "Semester                     object\n",
      "Relation                     object\n",
      "raisedhands                 float64\n",
      "VisITedResources              int64\n",
      "AnnouncementsView             int64\n",
      "Discussion                    int64\n",
      "ParentAnsweringSurvey        object\n",
      "ParentschoolSatisfaction     object\n",
      "StudentAbsenceDays           object\n",
      "Class                        object\n",
      "dtype: object\n"
     ]
    }
   ],
   "source": [
    "print('Datatype of attributes (columns):', df.dtypes)"
   ]
  },
  {
   "cell_type": "code",
   "execution_count": 11,
   "id": "a31173e8-c69c-4f59-8208-c9777b3687fc",
   "metadata": {},
   "outputs": [
    {
     "name": "stdout",
     "output_type": "stream",
     "text": [
      "First 5 rows:\n",
      "                                    0           1           2           3  \\\n",
      "gender                             M           M           M           M   \n",
      "NationalITy                       KW          KW          KW          KW   \n",
      "PlaceofBirth                  KuwaIT      KuwaIT      KuwaIT      KuwaIT   \n",
      "StageID                   lowerlevel  lowerlevel  lowerlevel  lowerlevel   \n",
      "GradeID                         G-04        G-04        G-04        G-04   \n",
      "SectionID                          A           A           A           A   \n",
      "Topic                             IT          IT          IT          IT   \n",
      "Semester                           F           F           F           F   \n",
      "Relation                      Father      Father      Father      Father   \n",
      "raisedhands                     15.0         NaN        10.0        30.0   \n",
      "VisITedResources                  16          20           7          25   \n",
      "AnnouncementsView                  2           3           0           5   \n",
      "Discussion                        20          25          30          35   \n",
      "ParentAnsweringSurvey            Yes         Yes          No          No   \n",
      "ParentschoolSatisfaction        Good        Good         Bad         Bad   \n",
      "StudentAbsenceDays           Under-7     Under-7     Above-7     Above-7   \n",
      "Class                              M           M           L           L   \n",
      "\n",
      "                                   4  \n",
      "gender                             M  \n",
      "NationalITy                       KW  \n",
      "PlaceofBirth                  KuwaIT  \n",
      "StageID                   lowerlevel  \n",
      "GradeID                         G-04  \n",
      "SectionID                          A  \n",
      "Topic                             IT  \n",
      "Semester                           F  \n",
      "Relation                      Father  \n",
      "raisedhands                      0.0  \n",
      "VisITedResources                  50  \n",
      "AnnouncementsView                 12  \n",
      "Discussion                        50  \n",
      "ParentAnsweringSurvey             No  \n",
      "ParentschoolSatisfaction         Bad  \n",
      "StudentAbsenceDays           Above-7  \n",
      "Class                              M  \n"
     ]
    }
   ],
   "source": [
    "print('First 5 rows:\\n', df.head().T)"
   ]
  },
  {
   "cell_type": "code",
   "execution_count": 12,
   "id": "177d3241-ed43-4f32-912d-3c9400e5303f",
   "metadata": {},
   "outputs": [
    {
     "name": "stdout",
     "output_type": "stream",
     "text": [
      "Any 5 rows:\n",
      "                                  44          385         170         65   \\\n",
      "gender                             F           F           M           M   \n",
      "NationalITy                       KW        Iraq          KW          KW   \n",
      "PlaceofBirth                  KuwaIT        Iraq      KuwaIT      KuwaIT   \n",
      "StageID                   HighSchool  lowerlevel  lowerlevel  HighSchool   \n",
      "GradeID                         G-09        G-02        G-02        G-12   \n",
      "SectionID                          A           B           B           A   \n",
      "Topic                             IT      Arabic      French     English   \n",
      "Semester                           F           S           S           F   \n",
      "Relation                      Father         Mum      Father      Father   \n",
      "raisedhands                     33.0        79.0        40.0        13.0   \n",
      "VisITedResources                  33          93          62           5   \n",
      "AnnouncementsView                 30          49          83          18   \n",
      "Discussion                        90          23          33          19   \n",
      "ParentAnsweringSurvey             No         Yes         Yes          No   \n",
      "ParentschoolSatisfaction         Bad        Good        Good         Bad   \n",
      "StudentAbsenceDays           Under-7     Under-7     Under-7     Above-7   \n",
      "Class                              M           H           H           L   \n",
      "\n",
      "                                 345  \n",
      "gender                             F  \n",
      "NationalITy                   Jordan  \n",
      "PlaceofBirth                  Jordan  \n",
      "StageID                   lowerlevel  \n",
      "GradeID                         G-02  \n",
      "SectionID                          B  \n",
      "Topic                         French  \n",
      "Semester                           F  \n",
      "Relation                         Mum  \n",
      "raisedhands                     13.0  \n",
      "VisITedResources                  82  \n",
      "AnnouncementsView                 20  \n",
      "Discussion                        30  \n",
      "ParentAnsweringSurvey             No  \n",
      "ParentschoolSatisfaction        Good  \n",
      "StudentAbsenceDays           Under-7  \n",
      "Class                              H  \n"
     ]
    }
   ],
   "source": [
    "print('Any 5 rows:\\n',df.sample(5).T)"
   ]
  },
  {
   "cell_type": "code",
   "execution_count": 13,
   "id": "c7c6f5c9-837e-4095-ab68-5dd4a9db4c2e",
   "metadata": {},
   "outputs": [
    {
     "name": "stdout",
     "output_type": "stream",
     "text": [
      "Statistical information of Numerical Columns: \n",
      "        raisedhands  VisITedResources  AnnouncementsView  Discussion\n",
      "count   478.000000        480.000000         480.000000  480.000000\n",
      "mean     46.939331         54.797917          37.918750   43.283333\n",
      "std      31.375699         33.080007          26.611244   27.637735\n",
      "min       0.000000          0.000000           0.000000    1.000000\n",
      "25%      15.000000         20.000000          14.000000   20.000000\n",
      "50%      50.000000         65.000000          33.000000   39.000000\n",
      "75%      75.000000         84.000000          58.000000   70.000000\n",
      "max     170.000000         99.000000          98.000000   99.000000\n"
     ]
    }
   ],
   "source": [
    "# Display Statistical information\n",
    "print('Statistical information of Numerical Columns: \\n',df.describe())\n"
   ]
  },
  {
   "cell_type": "code",
   "execution_count": 14,
   "id": "1e03426d-5807-41b7-b91f-7f7b4075db2f",
   "metadata": {},
   "outputs": [
    {
     "name": "stdout",
     "output_type": "stream",
     "text": [
      "Total Number of Null Values in Dataset: \n",
      " gender                      2\n",
      "NationalITy                 0\n",
      "PlaceofBirth                0\n",
      "StageID                     0\n",
      "GradeID                     0\n",
      "SectionID                   0\n",
      "Topic                       0\n",
      "Semester                    0\n",
      "Relation                    0\n",
      "raisedhands                 2\n",
      "VisITedResources            0\n",
      "AnnouncementsView           0\n",
      "Discussion                  0\n",
      "ParentAnsweringSurvey       0\n",
      "ParentschoolSatisfaction    0\n",
      "StudentAbsenceDays          0\n",
      "Class                       0\n",
      "dtype: int64\n"
     ]
    }
   ],
   "source": [
    " # Display Null values\n",
    "print('Total Number of Null Values in Dataset: \\n', df.isna().sum())"
   ]
  },
  {
   "cell_type": "code",
   "execution_count": 9,
   "id": "2dba735b-319b-4133-868e-d16328efb4af",
   "metadata": {},
   "outputs": [
    {
     "name": "stdout",
     "output_type": "stream",
     "text": [
      "Total Number of Null Values in Dataset: \n",
      " gender                      0\n",
      "NationalITy                 0\n",
      "PlaceofBirth                0\n",
      "StageID                     0\n",
      "GradeID                     0\n",
      "SectionID                   0\n",
      "Topic                       0\n",
      "Semester                    0\n",
      "Relation                    0\n",
      "raisedhands                 0\n",
      "VisITedResources            0\n",
      "AnnouncementsView           0\n",
      "Discussion                  0\n",
      "ParentAnsweringSurvey       0\n",
      "ParentschoolSatisfaction    0\n",
      "StudentAbsenceDays          0\n",
      "Class                       0\n",
      "dtype: int64\n"
     ]
    },
    {
     "name": "stderr",
     "output_type": "stream",
     "text": [
      "C:\\Users\\Aishwarya Bhansali\\AppData\\Local\\Temp\\ipykernel_13424\\3014334111.py:3: FutureWarning: A value is trying to be set on a copy of a DataFrame or Series through chained assignment using an inplace method.\n",
      "The behavior will change in pandas 3.0. This inplace method will never work because the intermediate object on which we are setting values always behaves as a copy.\n",
      "\n",
      "For example, when doing 'df[col].method(value, inplace=True)', try using 'df.method({col: value}, inplace=True)' or df[col] = df[col].method(value) instead, to perform the operation inplace on the original object.\n",
      "\n",
      "\n",
      "  df['raisedhands'].fillna(df['raisedhands'].mean(), inplace=True)\n"
     ]
    }
   ],
   "source": [
    " # Fill the missing values\n",
    "df['gender'].fillna(df['gender'].mode()[0], inplace=True)\n",
    "df['raisedhands'].fillna(df['raisedhands'].mean(), inplace=True)\n",
    "print('Total Number of Null Values in Dataset: \\n', df.isna().sum())"
   ]
  },
  {
   "cell_type": "code",
   "execution_count": 16,
   "id": "a85c48cc-96f4-413c-b7e1-f786355170c6",
   "metadata": {},
   "outputs": [],
   "source": [
    " # Converting categorical to numeric using Find and replace method\n",
    "df['Relation']=df['Relation'].astype('category')\n",
    "df['Relation']=df['Relation'].cat.codes"
   ]
  },
  {
   "cell_type": "code",
   "execution_count": 17,
   "id": "31b4d1de-d3a8-4b4a-8d2e-5cb9ef3aaa0e",
   "metadata": {},
   "outputs": [
    {
     "data": {
      "image/png": "[encoded data removed]",
      "text/plain": [
       "<Figure size 640x480 with 4 Axes>"
      ]
     },
     "metadata": {},
     "output_type": "display_data"
    }
   ],
   "source": [
    " # Outliers can be visualized using boxplot\n",
    " # using seaborn library we can plot the boxplot\n",
    "fig, axes = plt.subplots(2,2)\n",
    "fig.suptitle('Before removing Outliers')\n",
    "sns.boxplot(data = df, x ='raisedhands', ax=axes[0,0])\n",
    "sns.boxplot(data = df, x ='VisITedResources', ax=axes[0,1])\n",
    "sns.boxplot(data = df, x ='AnnouncementsView', ax=axes[1,0])\n",
    "sns.boxplot(data = df, x ='Discussion', ax=axes[1,1])\n",
    "plt.show()\n"
   ]
  },
  {
   "cell_type": "code",
   "execution_count": 18,
   "id": "20f6a42a-7639-4d13-82f6-898569ea20ed",
   "metadata": {},
   "outputs": [
    {
     "name": "stdout",
     "output_type": "stream",
     "text": [
      "Highest allowed in variable: raisedhands 165.0\n",
      "lowest allowed in variable: raisedhands -75.0\n",
      "Total outliers in: raisedhands : 1\n",
      "Outliers : \n",
      " 1\n",
      "                                    28\n",
      "gender                               M\n",
      "NationalITy                         KW\n",
      "PlaceofBirth                    KuwaIT\n",
      "StageID                   MiddleSchool\n",
      "GradeID                           G-08\n",
      "SectionID                            A\n",
      "Topic                          Science\n",
      "Semester                             F\n",
      "Relation                             0\n",
      "raisedhands                      170.0\n",
      "VisITedResources                    85\n",
      "AnnouncementsView                   52\n",
      "Discussion                          43\n",
      "ParentAnsweringSurvey              Yes\n",
      "ParentschoolSatisfaction          Good\n",
      "StudentAbsenceDays             Under-7\n",
      "Class                                M\n"
     ]
    },
    {
     "data": {
      "image/png": "[encoded data removed]",
      "text/plain": [
       "<Figure size 640x480 with 4 Axes>"
      ]
     },
     "metadata": {},
     "output_type": "display_data"
    }
   ],
   "source": [
    "#Display and remove outliers\n",
    "df = DetectOutlier(df, 'raisedhands')\n",
    "fig, axes = plt.subplots(2,2)\n",
    "fig.suptitle('After removing Outliers')\n",
    "sns.boxplot(data = df, x ='raisedhands', ax=axes[0,0])\n",
    "\n",
    "sns.boxplot(data = df, x ='VisITedResources', ax= axes[0,1])\n",
    "sns.boxplot(data = df, x ='AnnouncementsView', ax= axes[1,0])\n",
    "sns.boxplot(data = df, x ='Discussion', ax= axes[1,1])\n",
    "plt.show()"
   ]
  },
  {
   "cell_type": "code",
   "execution_count": 19,
   "id": "e6500543-e13f-41de-9797-d9abb55754ea",
   "metadata": {},
   "outputs": [
    {
     "name": "stdout",
     "output_type": "stream",
     "text": [
      "---------------- Data Skew Values before Yeo John Transformation ----------------------\n",
      "raisedhands:  0.028374079559687623\n",
      "VisITedResources:  -0.3388404568312024\n",
      "AnnouncementsView:  0.4021955128761278\n",
      "Discussion:  0.3621541732143617\n",
      "---------------- Data Skew Values after Yeo John Transformation ----------------------\n",
      "AnnouncementsView:  -0.1800377395845211\n",
      "Discussion:  -0.13328782723929383\n"
     ]
    },
    {
     "data": {
      "image/png": "[encoded data removed]",
      "text/plain": [
       "<Figure size 640x480 with 4 Axes>"
      ]
     },
     "metadata": {},
     "output_type": "display_data"
    }
   ],
   "source": [
    " print('---------------- Data Skew Values before Yeo John Transformation ----------------------')\n",
    " # There are two types\n",
    " # 1. Left skew\n",
    " # 2. Right skew\n",
    " # Formula to find out data skewness = 3*(mean-median)/std\n",
    " # = 0 (no skew) print\n",
    " # = negative (Negative skew) left skewed data\n",
    " # = positve (Positive skew) Right skewed data\n",
    " # = -0.5 to 0 to 0.5 (acceptable skew)\n",
    " # = -0.5> <-1 moderate negative skew\n",
    " # = 0.5> <1 moderate positive skew\n",
    " # = > -1 high negative\n",
    " # = > 1 high positive\n",
    "\n",
    "# Checking skewness for 'raisedhands' column\n",
    "print('raisedhands: ', df['raisedhands'].skew())\n",
    " \n",
    "# Checking skewness for 'VisITedResources' column\n",
    "print('VisITedResources: ', df['VisITedResources'].skew())\n",
    "\n",
    "# Checking skewness for 'AnnouncementsView' column\n",
    "print('AnnouncementsView: ', df['AnnouncementsView'].skew())\n",
    "\n",
    "# Checking skewness for 'Discussion' column\n",
    "print('Discussion: ', df['Discussion'].skew())\n",
    "\n",
    "# Create subplots to visualize data distribution before and after transformation\n",
    "fig, axes = plt.subplots(2,2)\n",
    "fig.suptitle('Handling Data Skewness')\n",
    "\n",
    "# Plot histogram for 'AnnouncementsView' before transformation\n",
    "sns.histplot(ax = axes[0,0], data = df['AnnouncementsView'], kde=True)\n",
    "\n",
    "# Plot histogram for 'Discussion' before transformation\n",
    "sns.histplot(ax = axes[0,1], data = df['Discussion'], kde=True)\n",
    "\n",
    "# Apply Yeo-Johnson Power Transformation to handle skewness\n",
    "from sklearn.preprocessing import PowerTransformer\n",
    "yeojohnTr = PowerTransformer(standardize=True)\n",
    "\n",
    "# Transform 'AnnouncementsView' column\n",
    "df['AnnouncementsView'] = yeojohnTr.fit_transform(df['AnnouncementsView'].values.reshape(-1,1))\n",
    "\n",
    "# Transform 'Discussion' column\n",
    "df['Discussion'] = yeojohnTr.fit_transform(df['Discussion'].values.reshape(-1,1))\n",
    "\n",
    "# Print skewness values after transformation\n",
    "print('---------------- Data Skew Values after Yeo John Transformation ----------------------')\n",
    "print('AnnouncementsView: ', df['AnnouncementsView'].skew())\n",
    "print('Discussion: ', df['Discussion'].skew())\n",
    "\n",
    "# Plot histogram for 'AnnouncementsView' after transformation\n",
    "sns.histplot(ax = axes[1,0], data = df['AnnouncementsView'], kde=True)\n",
    "\n",
    "# Plot histogram for 'Discussion' after transformation\n",
    "sns.histplot(ax = axes[1,1], data =df['Discussion'], kde=True)\n",
    "\n",
    "# Display the plots\n",
    "plt.show()\n",
    " \n"
   ]
  }
 ],
 "metadata": {
  "kernelspec": {
   "display_name": "Python (venv)",
   "language": "python",
   "name": "venv"
  },
  "language_info": {
   "codemirror_mode": {
    "name": "ipython",
    "version": 3
   },
   "file_extension": ".py",
   "mimetype": "text/x-python",
   "name": "python",
   "nbconvert_exporter": "python",
   "pygments_lexer": "ipython3",
   "version": "3.13.1"
  }
 },
 "nbformat": 4,
 "nbformat_minor": 5
}
